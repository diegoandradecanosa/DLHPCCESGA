{
 "cells": [
  {
   "cell_type": "markdown",
   "id": "6cf51e88-91b0-410a-a862-c391f2203494",
   "metadata": {
    "tags": []
   },
   "source": [
    "# SLURM 101\n",
    "En primer lugar vamos a hacer un breve recorrido por algunos comandos que nos permiten conocer el estado de la cola y de nuestros trabajo.\n",
    "\n",
    "* sinfo: Nos indica el estado de ocupación de las particiones del sistema y sus nodos\n",
    "* batchlim: Nos da información sobre los límites de las particiones\n",
    "* squeue: Nos indica el estado de los trabajos\n"
   ]
  },
  {
   "cell_type": "code",
   "execution_count": 1,
   "id": "19cf762d-ab36-4b94-a991-0b2cf7c4d198",
   "metadata": {},
   "outputs": [
    {
     "name": "stdout",
     "output_type": "stream",
     "text": [
      "PARTITION AVAIL  TIMELIMIT  NODES  STATE NODELIST\n",
      "ondemand     up 42-00:00:0     13   resv ilk-[113-122,125,135,138]\n",
      "ondemand     up 42-00:00:0     17   plnd ilk-[36,97-99,101-104,106-107,110-111,130,133,136,158],smp-3\n",
      "ondemand     up 42-00:00:0      1  down* ilk-100\n",
      "ondemand     up 42-00:00:0      2   unk* clk-[66,77]\n",
      "ondemand     up 42-00:00:0      1  drain ilk-63\n",
      "ondemand     up 42-00:00:0    250    mix a100-[10-11,14,21,27,31,64],clk-[2-5,7-10,12-14,16-27,30-39,42-52,55-64,67-76],ilk-[1-5,8,10-12,14-18,20-21,24-25,27-31,33,35,37-49,51-52,54,58-61,64-65,67-95,112,123-124,126-129,131-132,137,139-149,151-153,155-157,159,161-163,166,168-170,172-177,180-181,183-192,194,196-201,204-206,208-214,216-218,221-227,229-236,238,240-241,245],smp-[1-2,4-6,8-9,11-12,14-15]\n",
      "ondemand     up 42-00:00:0     95  alloc a100-[16,22,24,26,28,32-63],clk-[6,11,15,28-29,53-54,65],ilk-[6-7,9,13,19,22-23,26,32,34,50,53,55-57,62,66,96,105,108-109,134,150,154,160,164-165,167,171,178-179,182,193,195,202-203,207,215,219-220,228,237,239,246-248],smp-[7,10,13,16]\n",
      "ondemand     up 42-00:00:0     34   idle a100-[1-9,12-13,15,17-20,23,25,29-30,65-66],ilk-[242-244,249-256],optane\n",
      "long         up 7-00:00:00     13   resv ilk-[113-122,125,135,138]\n",
      "long         up 7-00:00:00     17   plnd ilk-[36,97-99,101-104,106-107,110-111,130,133,136,158],smp-3\n",
      "long         up 7-00:00:00      1  down* ilk-100\n",
      "long         up 7-00:00:00      2   unk* clk-[66,77]\n",
      "long         up 7-00:00:00      1  drain ilk-63\n",
      "long         up 7-00:00:00    250    mix a100-[10-11,14,21,27,31,64],clk-[2-5,7-10,12-14,16-27,30-39,42-52,55-64,67-76],ilk-[1-5,8,10-12,14-18,20-21,24-25,27-31,33,35,37-49,51-52,54,58-61,64-65,67-95,112,123-124,126-129,131-132,137,139-149,151-153,155-157,159,161-163,166,168-170,172-177,180-181,183-192,194,196-201,204-206,208-214,216-218,221-227,229-236,238,240-241,245],smp-[1-2,4-6,8-9,11-12,14-15]\n",
      "long         up 7-00:00:00     95  alloc a100-[16,22,24,26,28,32-63],clk-[6,11,15,28-29,53-54,65],ilk-[6-7,9,13,19,22-23,26,32,34,50,53,55-57,62,66,96,105,108-109,134,150,154,160,164-165,167,171,178-179,182,193,195,202-203,207,215,219-220,228,237,239,246-248],smp-[7,10,13,16]\n",
      "long         up 7-00:00:00     34   idle a100-[1-9,12-13,15,17-20,23,25,29-30,65-66],ilk-[242-244,249-256],optane\n",
      "medium       up 3-00:00:00     13   resv ilk-[113-122,125,135,138]\n",
      "medium       up 3-00:00:00     17   plnd ilk-[36,97-99,101-104,106-107,110-111,130,133,136,158],smp-3\n",
      "medium       up 3-00:00:00      1  down* ilk-100\n",
      "medium       up 3-00:00:00     19   unk* clk-[66,77,101-116,118]\n",
      "medium       up 3-00:00:00      1  drain ilk-63\n",
      "medium       up 3-00:00:00    253    mix a100-[10-11,14,21,27,31,64],clk-[2-5,7-10,12-14,16-27,30-39,42-52,55-64,67-76,117,119-120],ilk-[1-5,8,10-12,14-18,20-21,24-25,27-31,33,35,37-49,51-52,54,58-61,64-65,67-95,112,123-124,126-129,131-132,137,139-149,151-153,155-157,159,161-163,166,168-170,172-177,180-181,183-192,194,196-201,204-206,208-214,216-218,221-227,229-236,238,240-241,245],smp-[1-2,4-6,8-9,11-12,14-15]\n",
      "medium       up 3-00:00:00     95  alloc a100-[16,22,24,26,28,32-63],clk-[6,11,15,28-29,53-54,65],ilk-[6-7,9,13,19,22-23,26,32,34,50,53,55-57,62,66,96,105,108-109,134,150,154,160,164-165,167,171,178-179,182,193,195,202-203,207,215,219-220,228,237,239,246-248],smp-[7,10,13,16]\n",
      "medium       up 3-00:00:00     34   idle a100-[1-9,12-13,15,17-20,23,25,29-30,65-66],ilk-[242-244,249-256],optane\n",
      "requeue      up 1-00:00:00     13   resv ilk-[113-122,125,135,138]\n",
      "requeue      up 1-00:00:00     17   plnd ilk-[36,97-99,101-104,106-107,110-111,130,133,136,158],smp-3\n",
      "requeue      up 1-00:00:00      1  down* ilk-100\n",
      "requeue      up 1-00:00:00      2   unk* clk-[66,77]\n",
      "requeue      up 1-00:00:00      1  drain ilk-63\n",
      "requeue      up 1-00:00:00    250    mix a100-[10-11,14,21,27,31,64],clk-[2-5,7-10,12-14,16-27,30-39,42-52,55-64,67-76],ilk-[1-5,8,10-12,14-18,20-21,24-25,27-31,33,35,37-49,51-52,54,58-61,64-65,67-95,112,123-124,126-129,131-132,137,139-149,151-153,155-157,159,161-163,166,168-170,172-177,180-181,183-192,194,196-201,204-206,208-214,216-218,221-227,229-236,238,240-241,245],smp-[1-2,4-6,8-9,11-12,14-15]\n",
      "requeue      up 1-00:00:00     95  alloc a100-[16,22,24,26,28,32-63],clk-[6,11,15,28-29,53-54,65],ilk-[6-7,9,13,19,22-23,26,32,34,50,53,55-57,62,66,96,105,108-109,134,150,154,160,164-165,167,171,178-179,182,193,195,202-203,207,215,219-220,228,237,239,246-248],smp-[7,10,13,16]\n",
      "requeue      up 1-00:00:00     34   idle a100-[1-9,12-13,15,17-20,23,25,29-30,65-66],ilk-[242-244,249-256],optane\n",
      "short*       up    6:00:00     13   resv ilk-[113-122,125,135,138]\n",
      "short*       up    6:00:00     17   plnd ilk-[36,97-99,101-104,106-107,110-111,130,133,136,158],smp-3\n",
      "short*       up    6:00:00      1  down* ilk-100\n",
      "short*       up    6:00:00     19   unk* clk-[66,77,101-116,118]\n",
      "short*       up    6:00:00      1  drain ilk-63\n",
      "short*       up    6:00:00    253    mix a100-[10-11,14,21,27,31,64],clk-[2-5,7-10,12-14,16-27,30-39,42-52,55-64,67-76,117,119-120],ilk-[1-5,8,10-12,14-18,20-21,24-25,27-31,33,35,37-49,51-52,54,58-61,64-65,67-95,112,123-124,126-129,131-132,137,139-149,151-153,155-157,159,161-163,166,168-170,172-177,180-181,183-192,194,196-201,204-206,208-214,216-218,221-227,229-236,238,240-241,245],smp-[1-2,4-6,8-9,11-12,14-15]\n",
      "short*       up    6:00:00     95  alloc a100-[16,22,24,26,28,32-63],clk-[6,11,15,28-29,53-54,65],ilk-[6-7,9,13,19,22-23,26,32,34,50,53,55-57,62,66,96,105,108-109,134,150,154,160,164-165,167,171,178-179,182,193,195,202-203,207,215,219-220,228,237,239,246-248],smp-[7,10,13,16]\n",
      "short*       up    6:00:00     34   idle a100-[1-9,12-13,15,17-20,23,25,29-30,65-66],ilk-[242-244,249-256],optane\n",
      "viz          up    8:00:00      1    mix t4-1\n",
      "viz          up    8:00:00      9   idle t4-[2-10]\n",
      "data         up 2-00:00:00      2   idle dtn-[1-2]\n"
     ]
    }
   ],
   "source": [
    "#Imprimo el estado del FT3: sus particiones y sus nodos\n",
    "!sinfo"
   ]
  },
  {
   "cell_type": "code",
   "execution_count": 5,
   "id": "8950971c-3d63-46c7-9c2a-1e4c6d103fd1",
   "metadata": {},
   "outputs": [
    {
     "name": "stdout",
     "output_type": "stream",
     "text": [
      "\n",
      "*******************\n",
      "* Partition limits:\n",
      "*******************\n",
      " PartitionName | Default |  MaxNodes |     MaxTime | Shared    | TotalCPUs | Tot\n",
      "alNodes |  DefMemPerCPU |  MaxMemPerNode\n",
      "---------------|---------|-----------|-------------|-----------|-----------|----\n",
      "--------|---------------|----------------\n",
      "ondemand       | NO      | UNLIMITED | 42-00:00:00 | NO        |     25248 |    \n",
      "    413 |          ---- |   UNLIMITED MB\n",
      "long           | NO      | UNLIMITED |  7-00:00:00 | NO        |     25248 |    \n",
      "    413 |          ---- |   UNLIMITED MB\n",
      "medium         | NO      | UNLIMITED |  3-00:00:00 | NO        |     26208 |    \n",
      "    433 |          ---- |   UNLIMITED MB\n",
      "requeue        | NO      | UNLIMITED |  1-00:00:00 | NO        |     25248 |    \n",
      "    413 |          ---- |   UNLIMITED MB\n",
      "short          | YES     | UNLIMITED |    06:00:00 | NO        |     26208 |    \n",
      "    433 |          ---- |   UNLIMITED MB\n",
      "viz            | NO      | UNLIMITED |    08:00:00 | NO        |       640 |    \n",
      "     10 |          ---- |   UNLIMITED MB\n",
      "data           | NO      | UNLIMITED |  2-00:00:00 | NO        |       128 |    \n",
      "      2 |          ---- |   UNLIMITED MB\n",
      "\n",
      "\u001b[Km--More--\u001b[m"
     ]
    }
   ],
   "source": [
    "#Imprimo los límtes de las particiones\n",
    "!batchlim"
   ]
  },
  {
   "cell_type": "code",
   "execution_count": 7,
   "id": "3dd90b99-1b89-4c08-9675-86c612f9390f",
   "metadata": {},
   "outputs": [
    {
     "name": "stdout",
     "output_type": "stream",
     "text": [
      "             JOBID        PARTITION     NAME     USER ST       TIME  NODES NODELIST(REASON)\n"
     ]
    }
   ],
   "source": [
    "#Imprimo los trabajos en ejecución del usuario ulcesdac (mi usuario)\n",
    "!squeue -u ulcesdac"
   ]
  },
  {
   "cell_type": "markdown",
   "id": "388dd335-7d5e-4de8-9a8b-8a8f2201566b",
   "metadata": {},
   "source": [
    "## Lanzamiento de trabajos\n",
    "\n",
    "A continuación vamos a usar el comando srun para ejecitarnos con las peticiones de trabajos. Recuerda las principales diferencias entre los comandos de esta familia:\n",
    "\n",
    "- srun: Envía un trabajo en tiempo real (online). \n",
    "    - El comando termina de ejecutarse cuando se termina de ejecutar el trabajo enviado. \n",
    "    - La salida se obtiene por salida estándar.\n",
    "    - Si se lanza en el contexto de una reserva previa, hereda los recursos de esa reserva.\n",
    "- salloc: Similar a srun pero siempre crea una nueva reserva.\n",
    "- sbatch: Para enviar trabajo por lotes (*batch*).\n",
    "    - Encola el trabajo y termina\n",
    "    - La salida se vuelva en dos ficheros\n",
    "        - XXX.o*pid* para la salida estándar\n",
    "        - XXX.o*pid* para el error\n"
   ]
  },
  {
   "cell_type": "code",
   "execution_count": 9,
   "id": "0e5918d1-5f6f-40d8-b2b1-4dd818a3e26a",
   "metadata": {},
   "outputs": [
    {
     "name": "stdout",
     "output_type": "stream",
     "text": [
      "srun: slurm_job_submit: setting QoS to Partition QoS value: short\n",
      "srun: job 1086838 queued and waiting for resources\n",
      "srun: job 1086838 has been allocated resources\n",
      "c203-30\n"
     ]
    }
   ],
   "source": [
    "#Lanzamos un trabajo en el que imprimimos el hostname del nodo de computación asignado\n",
    "#Pedimos 1 nodos, 32 cores, 16G de RAM durante 10 minutos\n",
    "!srun -N 1 -c 32 --mem=16G --time=00:10:00 hostname"
   ]
  },
  {
   "cell_type": "code",
   "execution_count": 18,
   "id": "62405d84-1b53-4ce1-9e9d-e7fbab236cee",
   "metadata": {},
   "outputs": [
    {
     "name": "stdout",
     "output_type": "stream",
     "text": [
      "srun: slurm_job_submit: Force default GPU type to gpu:a100.\n",
      "srun: slurm_job_submit: Job assigned to GPU nodes: gres:gpu:a100:1\n",
      "srun: slurm_job_submit: setting QoS to Partition QoS value: short\n",
      "srun: job 1086847 queued and waiting for resources\n",
      "srun: job 1086847 has been allocated resources\n",
      "Mon Dec  5 05:44:12 2022       \n",
      "+-----------------------------------------------------------------------------+\n",
      "| NVIDIA-SMI 495.29.05    Driver Version: 495.29.05    CUDA Version: 11.5     |\n",
      "|-------------------------------+----------------------+----------------------+\n",
      "| GPU  Name        Persistence-M| Bus-Id        Disp.A | Volatile Uncorr. ECC |\n",
      "| Fan  Temp  Perf  Pwr:Usage/Cap|         Memory-Usage | GPU-Util  Compute M. |\n",
      "|                               |                      |               MIG M. |\n",
      "|===============================+======================+======================|\n",
      "|   0  NVIDIA A100-PCI...  On   | 00000000:98:00.0 Off |                    0 |\n",
      "| N/A   35C    P0    33W / 250W |      0MiB / 40536MiB |      0%      Default |\n",
      "|                               |                      |             Disabled |\n",
      "+-------------------------------+----------------------+----------------------+\n",
      "                                                                               \n",
      "+-----------------------------------------------------------------------------+\n",
      "| Processes:                                                                  |\n",
      "|  GPU   GI   CI        PID   Type   Process name                  GPU Memory |\n",
      "|        ID   ID                                                   Usage      |\n",
      "|=============================================================================|\n",
      "|  No running processes found                                                 |\n",
      "+-----------------------------------------------------------------------------+\n"
     ]
    }
   ],
   "source": [
    "#Lanzamos un trabajo en el que imprimimos las características de la GPU del nodo de computación asignado\n",
    "#Pedimos 1 nodos, 32 cores, 16G de RAM, 1 GPU A100 durante 10 minutos\n",
    "!srun -N 1 -c 32 --mem=16G --time=00:10:00 --gres=gpu:a100 nvidia-smi"
   ]
  }
 ],
 "metadata": {
  "kernelspec": {
   "display_name": "slurm_test",
   "language": "python",
   "name": "slurm_test"
  },
  "language_info": {
   "codemirror_mode": {
    "name": "ipython",
    "version": 3
   },
   "file_extension": ".py",
   "mimetype": "text/x-python",
   "name": "python",
   "nbconvert_exporter": "python",
   "pygments_lexer": "ipython3",
   "version": "3.7.15"
  }
 },
 "nbformat": 4,
 "nbformat_minor": 5
}
